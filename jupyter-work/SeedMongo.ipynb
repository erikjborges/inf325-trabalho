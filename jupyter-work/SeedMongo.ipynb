{
 "cells": [
  {
   "cell_type": "code",
   "execution_count": null,
   "metadata": {},
   "outputs": [],
   "source": [
    "!pip install pymongo\n",
    "!pip install pprintpp"
   ]
  },
  {
   "cell_type": "code",
   "execution_count": null,
   "metadata": {},
   "outputs": [],
   "source": [
    "from pymongo import MongoClient\n",
    "from pprintpp import pprint\n",
    "import datetime\n",
    "import random\n",
    "\n",
    "mongoclient = MongoClient(\"mongo\", 27017)\n",
    "db = mongoclient.marketplace_engcomp_unicamp"
   ]
  },
  {
   "cell_type": "code",
   "execution_count": null,
   "metadata": {},
   "outputs": [],
   "source": [
    "db.products.delete_many({})\n",
    "db.sellers.delete_many({})"
   ]
  },
  {
   "cell_type": "code",
   "execution_count": null,
   "metadata": {},
   "outputs": [],
   "source": [
    "categories = [\n",
    "    \"Categoria A\",\n",
    "    \"Categoria B\",\n",
    "    \"Categoria C\",\n",
    "    \"Categoria D\",\n",
    "    \"Categoria E\",\n",
    "    \"Categoria F\",\n",
    "    \"Categoria G\",\n",
    "    \"Categoria H\",\n",
    "    \"Categoria I\",\n",
    "    \"Categoria J\",\n",
    "]"
   ]
  },
  {
   "cell_type": "code",
   "execution_count": null,
   "metadata": {},
   "outputs": [],
   "source": [
    "types = [\n",
    "    \"PF\",\n",
    "    \"PJ\"\n",
    "]"
   ]
  },
  {
   "cell_type": "code",
   "execution_count": null,
   "metadata": {},
   "outputs": [],
   "source": [
    "status = [\n",
    "    \"Actived\",\n",
    "    \"Inactived\"\n",
    "]"
   ]
  },
  {
   "cell_type": "code",
   "execution_count": null,
   "metadata": {},
   "outputs": [],
   "source": [
    "sellers_product_qty = 100"
   ]
  },
  {
   "cell_type": "code",
   "execution_count": null,
   "metadata": {},
   "outputs": [],
   "source": [
    "default_seller = {\n",
    "    \"cpfCnpj\": None,\n",
    "    \"name\": None,\n",
    "    \"description\": \"Melhor vendedor do Brasil.\",\n",
    "    \"address\": {\n",
    "        \"street\": \"Rua das Sucesso\",\n",
    "        \"number\": 123,\n",
    "        \"district\": \"Bairro Santo Antonio\",\n",
    "        \"zipcode\": \"30360-250\",\n",
    "        \"city\": \"Belo Horizonte\",\n",
    "        \"state\": \"Minas Gerais\",\n",
    "        \"country\": \"Brasil\"\n",
    "    },\n",
    "    \"user\": {\n",
    "            \"email\": \"vendedor@gmaill.com\",\n",
    "            \"password\": \"202cb962ac59075b964b07152d234b70\"\n",
    "        },\n",
    "    \"createdAt\": datetime.datetime.utcnow(),\n",
    "    \"updatedAt\": datetime.datetime.utcnow(),\n",
    "    \"status\": None,\n",
    "    \"rating\": None,\n",
    "    \"categories\": [\n",
    "            \n",
    "        ],\n",
    "    \"photo\": \"https://image.flaticon.com/icons/svg/2039/2039075.svg\",\n",
    "    \"type\": None\n",
    "}"
   ]
  },
  {
   "cell_type": "code",
   "execution_count": null,
   "metadata": {},
   "outputs": [],
   "source": [
    "product_types = [\n",
    "    \"smartphone\",\n",
    "    \"tablet\",\n",
    "    \"tv\",\n",
    "    \"movel\",\n",
    "    \"eletrodomestico\"\n",
    "]"
   ]
  },
  {
   "cell_type": "code",
   "execution_count": null,
   "metadata": {},
   "outputs": [],
   "source": [
    "default_product = {\n",
    "  \"sku\": None,\n",
    "  \"title\": None,\n",
    "  \"description\": \"O melhor do mercado pelo melhor preço\",\n",
    "\n",
    "  \"manufactureDetails\": {\n",
    "    \"modelNumber\": \"A123X\",\n",
    "    \"releaseDate\": datetime.datetime.utcnow()\n",
    "  },\n",
    "\n",
    "  \"shippingDetails\": {\n",
    "    \"weight\": 350,\n",
    "    \"width\": 10,\n",
    "    \"height\": 10,\n",
    "    \"depth\": 1\n",
    "  },\n",
    "\n",
    "  \"quantity\": 99,\n",
    "\n",
    "  \"pricing\": {\n",
    "    \"price\": 1000\n",
    "  },\n",
    "\n",
    "  \"seller\": {\n",
    "\t\"cpfCnpj\": None,\n",
    "        \"name\": None,\n",
    "        \"description\": \"Melhor vendedor do Brasil\",\n",
    "        \"rating\": None,\n",
    "        \"photo\": \"https://image.flaticon.com/icons/svg/2039/2039075.svg\"\n",
    "  },\n",
    "  \n",
    "  \"productType\": None,\n",
    "\n",
    "    \"createdAt\": datetime.datetime.utcnow(),\n",
    "    \"updatedAt\": datetime.datetime.utcnow(),\n",
    "    \"status\": None,\n",
    "    \"rating\": None,\n",
    "    \"categories\": [\n",
    "            \n",
    "        ],\n",
    "    \"photos\": [\n",
    "\t\"https://www.digithaigroup.com/wp-engine/wp-content/uploads/2015/09/products.png\",\n",
    "\t\"https://www.digithaigroup.com/wp-engine/wp-content/uploads/2015/09/products.png\",\n",
    "\t\"https://www.digithaigroup.com/wp-engine/wp-content/uploads/2015/09/products.png\"\n",
    "    ]\n",
    "}"
   ]
  },
  {
   "cell_type": "code",
   "execution_count": null,
   "metadata": {},
   "outputs": [],
   "source": [
    "qty_products = 0\n",
    "\n",
    "for i in range(sellers_product_qty):\n",
    "    \n",
    "    seller = default_seller\n",
    "    seller[\"cpfCnpj\"] = (str(i)).rjust(11, \"0\")\n",
    "    seller[\"name\"] = \"Venderdor \" + str(i)\n",
    "    seller[\"status\"] = status[(i % 2)]\n",
    "    seller[\"rating\"] = (i % 5) + 1\n",
    "    seller[\"categories\"] = []\n",
    "    seller[\"categories\"].append(categories[(i % 10)])\n",
    "    seller[\"categories\"].append(categories[(i % 5)])\n",
    "    seller[\"categories\"].append(categories[(i % 2)])\n",
    "    seller[\"type\"] = types[(i % 2)]\n",
    "    seller[\"createdAt\"] = datetime.datetime.utcnow()\n",
    "    \n",
    "    db.sellers.insert_one(seller)\n",
    "    \n",
    "    del(seller[\"_id\"])\n",
    "    \n",
    "    for j in range(random.randint(1, sellers_product_qty)):\n",
    "        product = default_product\n",
    "        product[\"sku\"] = \"SK\" + str(i) + str(j).rjust(5, \"0\")\n",
    "        product[\"title\"] = \"Produto \" + str(i) + str(j)\n",
    "        product[\"seller\"][\"cpfCnpj\"] = seller[\"cpfCnpj\"]\n",
    "        product[\"seller\"][\"name\"] = seller[\"name\"]\n",
    "        product[\"seller\"][\"rating\"] = seller[\"rating\"]\n",
    "        product[\"productType\"] = product_types[(j % 5)]\n",
    "        product[\"status\"] = status[(j % 2)]\n",
    "        product[\"rating\"] = (j % 5) + 1\n",
    "        product[\"categories\"] = []\n",
    "        product[\"categories\"].append(seller[\"categories\"][0])\n",
    "        \n",
    "        db.products.insert_one(product)\n",
    "        \n",
    "        del(product[\"_id\"])\n",
    "        \n",
    "        qty_products += 1"
   ]
  },
  {
   "cell_type": "code",
   "execution_count": null,
   "metadata": {},
   "outputs": [],
   "source": [
    "print(str(sellers_product_qty) + \" vendedores criados.\")"
   ]
  },
  {
   "cell_type": "code",
   "execution_count": null,
   "metadata": {},
   "outputs": [],
   "source": [
    "print(str(qty_products) + \" produtos criados.\")"
   ]
  }
 ],
 "metadata": {
  "kernelspec": {
   "display_name": "Python 3",
   "language": "python",
   "name": "python3"
  },
  "language_info": {
   "codemirror_mode": {
    "name": "ipython",
    "version": 3
   },
   "file_extension": ".py",
   "mimetype": "text/x-python",
   "name": "python",
   "nbconvert_exporter": "python",
   "pygments_lexer": "ipython3",
   "version": "3.8.5"
  }
 },
 "nbformat": 4,
 "nbformat_minor": 4
}
