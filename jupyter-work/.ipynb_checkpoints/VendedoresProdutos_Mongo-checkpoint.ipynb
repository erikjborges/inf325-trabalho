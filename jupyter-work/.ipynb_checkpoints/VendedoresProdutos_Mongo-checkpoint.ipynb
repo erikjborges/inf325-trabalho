{
 "cells": [
  {
   "cell_type": "markdown",
   "metadata": {},
   "source": [
    "# Trabalho - INF325 2020"
   ]
  },
  {
   "cell_type": "markdown",
   "metadata": {},
   "source": [
    "## Equipe 8:\n",
    "\n",
    " - Aline Souza Silva (RG: 36.783.233-1)\n",
    " - Erik Borges (RG: 15.434.065)\n",
    " - Lucas Trinquinato (RG: 50.260.503-0)\n",
    " - Paulo Sérgio Marchioreto (27.303.073-5)\n",
    " - Renato César Alves de Oliveira (RG: 36.536.287-6)\n"
   ]
  },
  {
   "cell_type": "markdown",
   "metadata": {},
   "source": [
    "### Instalando módulo de conexão com o Mongo"
   ]
  },
  {
   "cell_type": "code",
   "execution_count": null,
   "metadata": {},
   "outputs": [],
   "source": [
    "!pip install pymongo"
   ]
  },
  {
   "cell_type": "markdown",
   "metadata": {
    "scrolled": true
   },
   "source": [
    "### Instalando módulo para impressão de resultados"
   ]
  },
  {
   "cell_type": "code",
   "execution_count": null,
   "metadata": {},
   "outputs": [],
   "source": [
    "!pip install pprintpp"
   ]
  },
  {
   "cell_type": "markdown",
   "metadata": {},
   "source": [
    "### Importando módulo de conexão com o Mongo"
   ]
  },
  {
   "cell_type": "code",
   "execution_count": null,
   "metadata": {},
   "outputs": [],
   "source": [
    "from pymongo import MongoClient"
   ]
  },
  {
   "cell_type": "markdown",
   "metadata": {},
   "source": [
    "### Importando módulo para impressão de resultados"
   ]
  },
  {
   "cell_type": "code",
   "execution_count": null,
   "metadata": {},
   "outputs": [],
   "source": [
    "from pprintpp import pprint"
   ]
  },
  {
   "cell_type": "markdown",
   "metadata": {},
   "source": [
    "### Conectando na base de dados Mongo"
   ]
  },
  {
   "cell_type": "code",
   "execution_count": null,
   "metadata": {},
   "outputs": [],
   "source": [
    "mongoclient = MongoClient(\"mongo\", 27017)"
   ]
  },
  {
   "cell_type": "markdown",
   "metadata": {},
   "source": [
    "### Selecionando base de dados"
   ]
  },
  {
   "cell_type": "code",
   "execution_count": null,
   "metadata": {},
   "outputs": [],
   "source": [
    "db = mongoclient.marketplace_engcomp_unicamp"
   ]
  },
  {
   "cell_type": "markdown",
   "metadata": {},
   "source": [
    "### Lojistas com maior número de produtos disponíveis na plataforma"
   ]
  },
  {
   "cell_type": "code",
   "execution_count": null,
   "metadata": {},
   "outputs": [],
   "source": [
    "result = db.products.aggregate(\n",
    "    [\n",
    "        {\n",
    "            \"$match\": {\n",
    "                \"status\": \"Actived\"\n",
    "            }\n",
    "        },\n",
    "        {\n",
    "            \"$group\": {\n",
    "                \"_id\": \"$seller\",\n",
    "                \"totalItems\": {\n",
    "                    \"$sum\": 1\n",
    "                }\n",
    "            }\n",
    "        },\n",
    "        {\n",
    "            \"$sort\": {\n",
    "                \"totalItems\": -1\n",
    "            }\n",
    "        },\n",
    "        {\n",
    "            \"$limit\": 5\n",
    "        }\n",
    "    ]\n",
    ")\n",
    "\n",
    "pprint(list(result))"
   ]
  },
  {
   "cell_type": "markdown",
   "metadata": {},
   "source": [
    "### Lojistas com maior número de produtos disponíveis na plataforma (fazendo join com a tabela sellers para trazer todos os dados do lojista)"
   ]
  },
  {
   "cell_type": "code",
   "execution_count": null,
   "metadata": {},
   "outputs": [],
   "source": [
    "result = db.products.aggregate(\n",
    "    [\n",
    "        {\n",
    "            \"$match\": {\n",
    "                \"status\": \"Actived\"\n",
    "            }\n",
    "        },\n",
    "        {\n",
    "            \"$group\": {\n",
    "                \"_id\": \"$seller.cpfCnpj\",\n",
    "                \"totalItems\": {\n",
    "                    \"$sum\": 1\n",
    "                }\n",
    "            }\n",
    "        },\n",
    "        {\n",
    "            \"$sort\": {\n",
    "                \"totalItems\": -1\n",
    "            }\n",
    "        },\n",
    "        {\n",
    "            \"$limit\": 5\n",
    "        },\n",
    "        {\n",
    "            \"$lookup\": {\n",
    "                \"from\": \"sellers\",\n",
    "                \"localField\": \"_id\",\n",
    "                \"foreignField\": \"cpfCnpj\",\n",
    "                \"as\": \"seller\"\n",
    "            }\n",
    "        }\n",
    "    ]\n",
    ")\n",
    "\n",
    "pprint(list(result))"
   ]
  },
  {
   "cell_type": "markdown",
   "metadata": {},
   "source": [
    "### 5 produtos mais comuns no marketplace"
   ]
  },
  {
   "cell_type": "code",
   "execution_count": null,
   "metadata": {},
   "outputs": [],
   "source": [
    "result = db.products.aggregate([\n",
    "    {\n",
    "        \"$group\": {\n",
    "            \"_id\": \"$productType\",\n",
    "            \"total\": {\n",
    "                    \"$sum\": 1\n",
    "                }\n",
    "        }\n",
    "    },\n",
    "    {\n",
    "        \"$sort\": {\n",
    "            \"total\": -1\n",
    "        }\n",
    "    },\n",
    "    {\n",
    "        \"$limit\": 5\n",
    "    }\n",
    "])\n",
    "\n",
    "pprint(list(result))"
   ]
  },
  {
   "cell_type": "markdown",
   "metadata": {},
   "source": [
    "### 5 produtos mais comuns entre diferentes lojistas (produtos que aparecem em mais lojistas diferentes)"
   ]
  },
  {
   "cell_type": "code",
   "execution_count": null,
   "metadata": {},
   "outputs": [],
   "source": [
    "result = db.products.aggregate([\n",
    "    {\n",
    "        \"$group\": {\n",
    "            \"_id\": \"$productType\",\n",
    "            \"sellers\": {\n",
    "                    \"$addToSet\": \"$seller.cpfCnpj\"\n",
    "                }\n",
    "        }\n",
    "    },\n",
    "    {\n",
    "        \"$project\": {\n",
    "            \"_id\": 1,\n",
    "            \"qtySellers\": { \"$size\": \"$sellers\" }\n",
    "        }\n",
    "    },\n",
    "    {\n",
    "        \"$sort\": {\n",
    "            \"qtySellers\": -1\n",
    "        }\n",
    "    },\n",
    "    {\n",
    "        \"$limit\": 5\n",
    "    }\n",
    "])\n",
    "\n",
    "pprint(list(result))"
   ]
  },
  {
   "cell_type": "markdown",
   "metadata": {},
   "source": [
    "### 10 produtos mais recomendados de acordo com o \"rating\" do fornecedor e do produto"
   ]
  },
  {
   "cell_type": "code",
   "execution_count": null,
   "metadata": {},
   "outputs": [],
   "source": [
    "result = db.products.find().sort(\"seller.rating\", -1).sort(\"rating\", -1).limit(10)\n",
    "        \n",
    "pprint(list(result))"
   ]
  },
  {
   "cell_type": "markdown",
   "metadata": {},
   "source": [
    "### 5 categorias com mais produtos disponíveis"
   ]
  },
  {
   "cell_type": "code",
   "execution_count": null,
   "metadata": {},
   "outputs": [],
   "source": [
    "result = db.products.aggregate(\n",
    "    [\n",
    "        {\n",
    "            \"$match\": {\n",
    "                \"status\": \"Actived\"\n",
    "            }\n",
    "        },\n",
    "        {\n",
    "            \"$unwind\": \"$categories\"\n",
    "        },\n",
    "        {\n",
    "            \"$group\": {\n",
    "                \"_id\": \"$categories\",\n",
    "                \"totalItems\": {\n",
    "                    \"$sum\": 1\n",
    "                }\n",
    "            }\n",
    "        },\n",
    "        {\n",
    "            \"$sort\": {\n",
    "                \"totalItems\": -1\n",
    "            }\n",
    "        },\n",
    "        {\n",
    "            \"$limit\": 5\n",
    "        }\n",
    "    ]\n",
    ")\n",
    "\n",
    "pprint(list(result))"
   ]
  }
 ],
 "metadata": {
  "kernelspec": {
   "display_name": "Python 3",
   "language": "python",
   "name": "python3"
  },
  "language_info": {
   "codemirror_mode": {
    "name": "ipython",
    "version": 3
   },
   "file_extension": ".py",
   "mimetype": "text/x-python",
   "name": "python",
   "nbconvert_exporter": "python",
   "pygments_lexer": "ipython3",
   "version": "3.8.5"
  }
 },
 "nbformat": 4,
 "nbformat_minor": 4
}
