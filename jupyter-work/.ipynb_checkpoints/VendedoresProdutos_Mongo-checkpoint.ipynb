{
 "cells": [
  {
   "cell_type": "markdown",
   "metadata": {},
   "source": [
    "# Trabalho - INF325 2020"
   ]
  },
  {
   "cell_type": "markdown",
   "metadata": {},
   "source": [
    "## Equipe 8:\n",
    "\n",
    " - Aline Souza Silva (RG: 36.783.233-1)\n",
    " - Erik Borges (RG: 15.434.065)\n",
    " - Lucas Trinquinato (RG: 50.260.503-0)\n",
    " - Paulo Sérgio Marchioreto (27.303.073-5)\n",
    " - Renato César Alves de Oliveira (RG: 36.536.287-6)\n"
   ]
  },
  {
   "cell_type": "markdown",
   "metadata": {},
   "source": [
    "### Instalando módulo de conexão com o Mongo"
   ]
  },
  {
   "cell_type": "code",
   "execution_count": null,
   "metadata": {},
   "outputs": [],
   "source": [
    "!pip install pymongo"
   ]
  },
  {
   "cell_type": "markdown",
   "metadata": {
    "scrolled": true
   },
   "source": [
    "### Instalando módulo para impressão de resultados"
   ]
  },
  {
   "cell_type": "code",
   "execution_count": null,
   "metadata": {},
   "outputs": [],
   "source": [
    "!pip install pprintpp"
   ]
  },
  {
   "cell_type": "markdown",
   "metadata": {},
   "source": [
    "### Importando módulo de conexão com o Mongo"
   ]
  },
  {
   "cell_type": "code",
   "execution_count": null,
   "metadata": {},
   "outputs": [],
   "source": [
    "from pymongo import MongoClient"
   ]
  },
  {
   "cell_type": "markdown",
   "metadata": {},
   "source": [
    "### Importando módulo para impressão de resultados"
   ]
  },
  {
   "cell_type": "code",
   "execution_count": null,
   "metadata": {},
   "outputs": [],
   "source": [
    "from pprintpp import pprint"
   ]
  },
  {
   "cell_type": "markdown",
   "metadata": {},
   "source": [
    "### Conectando na base de dados Mongo"
   ]
  },
  {
   "cell_type": "code",
   "execution_count": null,
   "metadata": {},
   "outputs": [],
   "source": [
    "mongoclient = MongoClient(\"localhost\", 27017)\n",
    "\n",
    "try:\n",
    "    mongoclient.server_info()\n",
    "except:\n",
    "    mongoclient = MongoClient(\"mongo\", 27017)"
   ]
  },
  {
   "cell_type": "markdown",
   "metadata": {},
   "source": [
    "### Selecionando base de dados"
   ]
  },
  {
   "cell_type": "code",
   "execution_count": null,
   "metadata": {},
   "outputs": [],
   "source": [
    "db = mongoclient.marketplace_engcomp_unicamp"
   ]
  },
  {
   "cell_type": "markdown",
   "metadata": {},
   "source": [
    "### Preenchendo base de dados"
   ]
  },
  {
   "cell_type": "code",
   "execution_count": null,
   "metadata": {},
   "outputs": [],
   "source": [
    "%run SeedMongo.ipynb"
   ]
  },
  {
   "cell_type": "markdown",
   "metadata": {},
   "source": [
    "### Modelo de objetos na base de dados"
   ]
  },
  {
   "cell_type": "markdown",
   "metadata": {},
   "source": [
    "#### Modelo de documento na collection sellers\n",
    "\n",
    "``` json\n",
    "\n",
    "{\n",
    "    \"_id\" : ObjectId(\"5f5e60283189464e09808473\"),\n",
    "    \"cpfCnpj\" : \"00000000000\",\n",
    "    \"name\" : \"Venderdor 0\",\n",
    "    \"description\" : \"Melhor vendedor do Brasil.\",\n",
    "    \"address\" : {\n",
    "        \"street\" : \"Rua das Sucesso\",\n",
    "        \"number\" : 123,\n",
    "        \"district\" : \"Bairro Santo Antonio\",\n",
    "        \"zipcode\" : \"30360-250\",\n",
    "        \"city\" : \"Belo Horizonte\",\n",
    "        \"state\" : \"Minas Gerais\",\n",
    "        \"country\" : \"Brasil\"\n",
    "    },\n",
    "    \"user\" : {\n",
    "        \"email\" : \"vendedor@gmaill.com\",\n",
    "        \"password\" : \"202cb962ac59075b964b07152d234b70\"\n",
    "    },\n",
    "    \"createdAt\" : ISODate(\"2020-09-13T18:08:40.859Z\"),\n",
    "    \"updatedAt\" : ISODate(\"2020-09-13T18:08:40.843Z\"),\n",
    "    \"status\" : \"Actived\",\n",
    "    \"rating\" : 1,\n",
    "    \"categories\" : [ \n",
    "        \"Categoria A\", \n",
    "        \"Categoria A\", \n",
    "        \"Categoria A\"\n",
    "    ],\n",
    "    \"photo\" : \"https://image.flaticon.com/icons/svg/2039/2039075.svg\",\n",
    "    \"type\" : \"PF\"\n",
    "}\n",
    "\n",
    "```\n",
    "\n",
    "#### Modelo de documento na collection products\n",
    "\n",
    "``` json\n",
    "\n",
    "{\n",
    "    \"_id\" : ObjectId(\"5f5e60283189464e09808474\"),\n",
    "    \"sku\" : \"SK000000\",\n",
    "    \"title\" : \"Produto 00\",\n",
    "    \"description\" : \"O melhor do mercado pelo melhor preço\",\n",
    "    \"manufactureDetails\" : {\n",
    "        \"modelNumber\" : \"A123X\",\n",
    "        \"releaseDate\" : ISODate(\"2020-09-13T18:08:40.851Z\")\n",
    "    },\n",
    "    \"shippingDetails\" : {\n",
    "        \"weight\" : 350,\n",
    "        \"width\" : 10,\n",
    "        \"height\" : 10,\n",
    "        \"depth\" : 1\n",
    "    },\n",
    "    \"quantity\" : 99,\n",
    "    \"pricing\" : {\n",
    "        \"price\" : 1000\n",
    "    },\n",
    "    \"seller\" : {\n",
    "        \"cpfCnpj\" : \"00000000000\",\n",
    "        \"name\" : \"Venderdor 0\",\n",
    "        \"description\" : \"Melhor vendedor do Brasil\",\n",
    "        \"rating\" : 1,\n",
    "        \"photo\" : \"https://image.flaticon.com/icons/svg/2039/2039075.svg\"\n",
    "    },\n",
    "    \"productType\" : \"smartphone\",\n",
    "    \"createdAt\" : ISODate(\"2020-09-13T18:08:40.851Z\"),\n",
    "    \"updatedAt\" : ISODate(\"2020-09-13T18:08:40.851Z\"),\n",
    "    \"status\" : \"Actived\",\n",
    "    \"rating\" : 1,\n",
    "    \"categories\" : [ \n",
    "        \"Categoria A\"\n",
    "    ],\n",
    "    \"photos\" : [ \n",
    "        \"https://www.digithaigroup.com/wp-engine/wp-content/uploads/2015/09/products.png\", \n",
    "        \"https://www.digithaigroup.com/wp-engine/wp-content/uploads/2015/09/products.png\", \n",
    "        \"https://www.digithaigroup.com/wp-engine/wp-content/uploads/2015/09/products.png\"\n",
    "    ]\n",
    "}\n",
    "\n",
    "```"
   ]
  },
  {
   "cell_type": "markdown",
   "metadata": {},
   "source": [
    "### Lojistas com maior número de produtos disponíveis na plataforma"
   ]
  },
  {
   "cell_type": "code",
   "execution_count": null,
   "metadata": {},
   "outputs": [],
   "source": [
    "result = db.products.aggregate(\n",
    "    [\n",
    "        {\n",
    "            \"$match\": {\n",
    "                \"status\": \"Actived\"\n",
    "            }\n",
    "        },\n",
    "        {\n",
    "            \"$group\": {\n",
    "                \"_id\": \"$seller\",\n",
    "                \"totalItems\": {\n",
    "                    \"$sum\": 1\n",
    "                }\n",
    "            }\n",
    "        },\n",
    "        {\n",
    "            \"$sort\": {\n",
    "                \"totalItems\": -1\n",
    "            }\n",
    "        },\n",
    "        {\n",
    "            \"$limit\": 5\n",
    "        }\n",
    "    ]\n",
    ")\n",
    "\n",
    "pprint(list(result))"
   ]
  },
  {
   "cell_type": "markdown",
   "metadata": {},
   "source": [
    "### Lojistas com maior número de produtos disponíveis na plataforma (fazendo join com a tabela sellers para trazer todos os dados do lojista)"
   ]
  },
  {
   "cell_type": "code",
   "execution_count": null,
   "metadata": {},
   "outputs": [],
   "source": [
    "result = db.products.aggregate(\n",
    "    [\n",
    "        {\n",
    "            \"$match\": {\n",
    "                \"status\": \"Actived\"\n",
    "            }\n",
    "        },\n",
    "        {\n",
    "            \"$group\": {\n",
    "                \"_id\": \"$seller.cpfCnpj\",\n",
    "                \"totalItems\": {\n",
    "                    \"$sum\": 1\n",
    "                }\n",
    "            }\n",
    "        },\n",
    "        {\n",
    "            \"$sort\": {\n",
    "                \"totalItems\": -1\n",
    "            }\n",
    "        },\n",
    "        {\n",
    "            \"$limit\": 5\n",
    "        },\n",
    "        {\n",
    "            \"$lookup\": {\n",
    "                \"from\": \"sellers\",\n",
    "                \"localField\": \"_id\",\n",
    "                \"foreignField\": \"cpfCnpj\",\n",
    "                \"as\": \"seller\"\n",
    "            }\n",
    "        }\n",
    "    ]\n",
    ")\n",
    "\n",
    "pprint(list(result))"
   ]
  },
  {
   "cell_type": "markdown",
   "metadata": {},
   "source": [
    "### 5 produtos mais comuns no marketplace"
   ]
  },
  {
   "cell_type": "code",
   "execution_count": null,
   "metadata": {},
   "outputs": [],
   "source": [
    "result = db.products.aggregate([\n",
    "    {\n",
    "        \"$group\": {\n",
    "            \"_id\": \"$productType\",\n",
    "            \"total\": {\n",
    "                    \"$sum\": 1\n",
    "                }\n",
    "        }\n",
    "    },\n",
    "    {\n",
    "        \"$sort\": {\n",
    "            \"total\": -1\n",
    "        }\n",
    "    },\n",
    "    {\n",
    "        \"$limit\": 5\n",
    "    }\n",
    "])\n",
    "\n",
    "pprint(list(result))"
   ]
  },
  {
   "cell_type": "markdown",
   "metadata": {},
   "source": [
    "### 5 produtos mais comuns entre diferentes lojistas (produtos que aparecem em mais lojistas diferentes)"
   ]
  },
  {
   "cell_type": "code",
   "execution_count": null,
   "metadata": {},
   "outputs": [],
   "source": [
    "result = db.products.aggregate([\n",
    "    {\n",
    "        \"$group\": {\n",
    "            \"_id\": \"$productType\",\n",
    "            \"sellers\": {\n",
    "                    \"$addToSet\": \"$seller.cpfCnpj\"\n",
    "                }\n",
    "        }\n",
    "    },\n",
    "    {\n",
    "        \"$project\": {\n",
    "            \"_id\": 1,\n",
    "            \"qtySellers\": { \"$size\": \"$sellers\" }\n",
    "        }\n",
    "    },\n",
    "    {\n",
    "        \"$sort\": {\n",
    "            \"qtySellers\": -1\n",
    "        }\n",
    "    },\n",
    "    {\n",
    "        \"$limit\": 5\n",
    "    }\n",
    "])\n",
    "\n",
    "pprint(list(result))"
   ]
  },
  {
   "cell_type": "markdown",
   "metadata": {},
   "source": [
    "### 10 produtos mais recomendados de acordo com o \"rating\" do fornecedor e do produto"
   ]
  },
  {
   "cell_type": "code",
   "execution_count": null,
   "metadata": {},
   "outputs": [],
   "source": [
    "result = db.products.find().sort(\"seller.rating\", -1).sort(\"rating\", -1).limit(10)\n",
    "        \n",
    "pprint(list(result))"
   ]
  },
  {
   "cell_type": "markdown",
   "metadata": {},
   "source": [
    "### 5 categorias com mais produtos disponíveis"
   ]
  },
  {
   "cell_type": "code",
   "execution_count": null,
   "metadata": {},
   "outputs": [],
   "source": [
    "result = db.products.aggregate(\n",
    "    [\n",
    "        {\n",
    "            \"$match\": {\n",
    "                \"status\": \"Actived\"\n",
    "            }\n",
    "        },\n",
    "        {\n",
    "            \"$unwind\": \"$categories\"\n",
    "        },\n",
    "        {\n",
    "            \"$group\": {\n",
    "                \"_id\": \"$categories\",\n",
    "                \"totalItems\": {\n",
    "                    \"$sum\": 1\n",
    "                }\n",
    "            }\n",
    "        },\n",
    "        {\n",
    "            \"$sort\": {\n",
    "                \"totalItems\": -1\n",
    "            }\n",
    "        },\n",
    "        {\n",
    "            \"$limit\": 5\n",
    "        }\n",
    "    ]\n",
    ")\n",
    "\n",
    "pprint(list(result))"
   ]
  },
  {
   "cell_type": "code",
   "execution_count": null,
   "metadata": {},
   "outputs": [],
   "source": []
  }
 ],
 "metadata": {
  "kernelspec": {
   "display_name": "Python 3",
   "language": "python",
   "name": "python3"
  },
  "language_info": {
   "codemirror_mode": {
    "name": "ipython",
    "version": 3
   },
   "file_extension": ".py",
   "mimetype": "text/x-python",
   "name": "python",
   "nbconvert_exporter": "python",
   "pygments_lexer": "ipython3",
   "version": "3.8.5"
  }
 },
 "nbformat": 4,
 "nbformat_minor": 4
}
