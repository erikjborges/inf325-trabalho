{
 "cells": [
  {
   "cell_type": "markdown",
   "metadata": {},
   "source": [
    "# Trabalho - INF325 2020"
   ]
  },
  {
   "cell_type": "markdown",
   "metadata": {},
   "source": [
    "## Equipe 8:\n",
    "\n",
    " - Aline Souza Silva (RG: 36.783.233-1)\n",
    " - Erik Borges (RG: 15.434.065)\n",
    " - Lucas Trinquinato (RG: 50.260.503-0)\n",
    " - Paulo Sérgio Marchioreto (27.303.073-5)\n",
    " - Renato César Alves de Oliveira (RG: 36.536.287-6)\n"
   ]
  },
  {
   "cell_type": "markdown",
   "metadata": {},
   "source": [
    "### Instalando módulo de conexão com o Mongo"
   ]
  },
  {
   "cell_type": "code",
   "execution_count": null,
   "metadata": {},
   "outputs": [],
   "source": [
    "!pip install pymongo"
   ]
  },
  {
   "cell_type": "markdown",
   "metadata": {
    "scrolled": true
   },
   "source": [
    "### Instalando módulo para impressão de resultados"
   ]
  },
  {
   "cell_type": "code",
   "execution_count": null,
   "metadata": {},
   "outputs": [],
   "source": [
    "!pip install pprintpp"
   ]
  },
  {
   "cell_type": "markdown",
   "metadata": {},
   "source": [
    "### Importando módulo de conexão com o Mongo"
   ]
  },
  {
   "cell_type": "code",
   "execution_count": 39,
   "metadata": {},
   "outputs": [],
   "source": [
    "from pymongo import MongoClient"
   ]
  },
  {
   "cell_type": "markdown",
   "metadata": {},
   "source": [
    "### Importando módulo para impressão de resultados"
   ]
  },
  {
   "cell_type": "code",
   "execution_count": 28,
   "metadata": {},
   "outputs": [],
   "source": [
    "from pprintpp import pprint"
   ]
  },
  {
   "cell_type": "markdown",
   "metadata": {},
   "source": [
    "### Conectando na base de dados Mongo"
   ]
  },
  {
   "cell_type": "code",
   "execution_count": 29,
   "metadata": {},
   "outputs": [],
   "source": [
    "mongoclient = MongoClient(\"mongo\", 27017)"
   ]
  },
  {
   "cell_type": "markdown",
   "metadata": {},
   "source": [
    "### Selecionando base de dados"
   ]
  },
  {
   "cell_type": "code",
   "execution_count": 30,
   "metadata": {},
   "outputs": [],
   "source": [
    "db = mongoclient.marketplace_engcomp_unicamp"
   ]
  },
  {
   "cell_type": "markdown",
   "metadata": {},
   "source": [
    "### Lojistas com maior número de produtos disponíveis na plataforma"
   ]
  },
  {
   "cell_type": "code",
   "execution_count": 43,
   "metadata": {},
   "outputs": [
    {
     "name": "stdout",
     "output_type": "stream",
     "text": [
      "[\n",
      "    {\n",
      "        '_id': {\n",
      "            'cpfCnpj': '12345678900',\n",
      "            'description': 'Melhor vendedor do Brasil',\n",
      "            'name': 'Vendedor 1',\n",
      "            'photo': 'https://image.flaticon.com/icons/svg/2039/2039075.svg',\n",
      "            'rating': 4,\n",
      "        },\n",
      "        'totalItems': 2,\n",
      "    },\n",
      "    {\n",
      "        '_id': {\n",
      "            'cpfCnpj': '12345678901',\n",
      "            'description': 'Melhor vendedor do Brasil',\n",
      "            'name': 'Vendedor 1',\n",
      "            'photo': 'https://image.flaticon.com/icons/svg/2039/2039075.svg',\n",
      "            'rating': 4,\n",
      "        },\n",
      "        'totalItems': 1,\n",
      "    },\n",
      "]\n"
     ]
    }
   ],
   "source": [
    "result = db.products.aggregate(\n",
    "    [\n",
    "        {\n",
    "            \"$match\": {\n",
    "                \"status\": \"Actived\"\n",
    "            }\n",
    "        },\n",
    "        {\n",
    "            \"$group\": {\n",
    "                \"_id\": \"$seller\",\n",
    "                \"totalItems\": {\n",
    "                    \"$sum\": 1\n",
    "                }\n",
    "            }\n",
    "        },\n",
    "        {\n",
    "            \"$sort\": {\n",
    "                \"totalItems\": -1\n",
    "            }\n",
    "        },\n",
    "        {\n",
    "            \"$limit\": 5\n",
    "        }\n",
    "    ]\n",
    ")\n",
    "\n",
    "pprint(list(result))"
   ]
  },
  {
   "cell_type": "markdown",
   "metadata": {},
   "source": [
    "### Lojistas com maior número de produtos disponíveis na plataforma (fazendo join com a tabela sellers para trazer todos os dados do lojista)"
   ]
  },
  {
   "cell_type": "code",
   "execution_count": 48,
   "metadata": {},
   "outputs": [
    {
     "name": "stdout",
     "output_type": "stream",
     "text": [
      "[\n",
      "    {\n",
      "        '_id': '12345678900',\n",
      "        'seller': [\n",
      "            {\n",
      "                '_id': ObjectId('5f5ae16aa8359483f6fd4fcc'),\n",
      "                'address': {\n",
      "                    'city': 'Belo Horizonte',\n",
      "                    'country': 'Brasil',\n",
      "                    'district': 'Bairro Santo Antonio',\n",
      "                    'number': 123,\n",
      "                    'state': 'Minas Gerais',\n",
      "                    'street': 'Rua das Sucesso',\n",
      "                    'zipcode': '30360-250',\n",
      "                },\n",
      "                'categories': ['Eletrodomesticos', 'Moveis', 'Variedades'],\n",
      "                'cpfCnpj': '12345678900',\n",
      "                'createdAt': datetime.datetime(2020, 9, 10, 8, 15, 39, 736000),\n",
      "                'description': 'Melhor vendedor do Brasil.',\n",
      "                'name': 'Vendedor 1',\n",
      "                'photo': 'https://image.flaticon.com/icons/svg/2039/2039075.svg',\n",
      "                'rating': 4,\n",
      "                'status': 'Actived',\n",
      "                'type': 'PF',\n",
      "                'updatedAt': datetime.datetime(2020, 9, 10, 8, 15, 39, 736000),\n",
      "                'user': {\n",
      "                    'email': 'vendedor1@gmaill.com',\n",
      "                    'password': '202cb962ac59075b964b07152d234b70',\n",
      "                },\n",
      "            },\n",
      "        ],\n",
      "        'totalItems': 2,\n",
      "    },\n",
      "    {'_id': '12345678901', 'seller': [], 'totalItems': 1},\n",
      "]\n"
     ]
    }
   ],
   "source": [
    "result = db.products.aggregate(\n",
    "    [\n",
    "        {\n",
    "            \"$match\": {\n",
    "                \"status\": \"Actived\"\n",
    "            }\n",
    "        },\n",
    "        {\n",
    "            \"$group\": {\n",
    "                \"_id\": \"$seller.cpfCnpj\",\n",
    "                \"totalItems\": {\n",
    "                    \"$sum\": 1\n",
    "                }\n",
    "            }\n",
    "        },\n",
    "        {\n",
    "            \"$sort\": {\n",
    "                \"totalItems\": -1\n",
    "            }\n",
    "        },\n",
    "        {\n",
    "            \"$limit\": 5\n",
    "        },\n",
    "        {\n",
    "            \"$lookup\": {\n",
    "                \"from\": \"sellers\",\n",
    "                \"localField\": \"_id\",\n",
    "                \"foreignField\": \"cpfCnpj\",\n",
    "                \"as\": \"seller\"\n",
    "            }\n",
    "        }\n",
    "    ]\n",
    ")\n",
    "\n",
    "pprint(list(result))"
   ]
  },
  {
   "cell_type": "markdown",
   "metadata": {},
   "source": [
    "### 5 produtos mais comuns no marketplace"
   ]
  },
  {
   "cell_type": "code",
   "execution_count": 45,
   "metadata": {},
   "outputs": [
    {
     "name": "stdout",
     "output_type": "stream",
     "text": [
      "[{'_id': 'smartphone', 'total': 3}]\n"
     ]
    }
   ],
   "source": [
    "result = db.products.aggregate([\n",
    "    {\n",
    "        \"$group\": {\n",
    "            \"_id\": \"$productType\",\n",
    "            \"total\": {\n",
    "                    \"$sum\": 1\n",
    "                }\n",
    "        }\n",
    "    },\n",
    "    {\n",
    "        \"$sort\": {\n",
    "            \"total\": -1\n",
    "        }\n",
    "    },\n",
    "    {\n",
    "        \"$limit\": 5\n",
    "    }\n",
    "])\n",
    "\n",
    "pprint(list(result))"
   ]
  },
  {
   "cell_type": "markdown",
   "metadata": {},
   "source": [
    "### 5 produtos mais comuns entre diferentes lojistas (produtos que aparecem em mais lojistas diferentes)"
   ]
  },
  {
   "cell_type": "code",
   "execution_count": 46,
   "metadata": {},
   "outputs": [
    {
     "name": "stdout",
     "output_type": "stream",
     "text": [
      "[{'_id': 'smartphone', 'qtySellers': 2}]\n"
     ]
    }
   ],
   "source": [
    "result = db.products.aggregate([\n",
    "    {\n",
    "        \"$group\": {\n",
    "            \"_id\": \"$productType\",\n",
    "            \"sellers\": {\n",
    "                    \"$addToSet\": \"$seller.cpfCnpj\"\n",
    "                }\n",
    "        }\n",
    "    },\n",
    "    {\n",
    "        \"$project\": {\n",
    "            \"_id\": 1,\n",
    "            \"qtySellers\": { \"$size\": \"$sellers\" }\n",
    "        }\n",
    "    },\n",
    "    {\n",
    "        \"$sort\": {\n",
    "            \"qtySellers\": -1\n",
    "        }\n",
    "    },\n",
    "    {\n",
    "        \"$limit\": 5\n",
    "    }\n",
    "])\n",
    "\n",
    "pprint(list(result))"
   ]
  },
  {
   "cell_type": "markdown",
   "metadata": {},
   "source": [
    "### 10 produtos mais recomendados de acordo com o \"rating\" do fornecedor e do produto"
   ]
  },
  {
   "cell_type": "code",
   "execution_count": 54,
   "metadata": {},
   "outputs": [
    {
     "name": "stdout",
     "output_type": "stream",
     "text": [
      "[\n",
      "    {\n",
      "        '_id': ObjectId('5f5ad595a8359483f6fd4bcb'),\n",
      "        'categories': ['Eletronicos'],\n",
      "        'createdAt': datetime.datetime(2020, 9, 10, 8, 15, 39, 736000),\n",
      "        'description': 'O melhor smartphone do mercado pelo melhor preço',\n",
      "        'manufactureDetails': {\n",
      "            'modelNumber': 'A123X',\n",
      "            'releaseDate': datetime.datetime(2020, 9, 1, 0, 0),\n",
      "        },\n",
      "        'photos': [\n",
      "            'https://www.digithaigroup.com/wp-engine/wp-content/uploads/2015/09/products.png',\n",
      "            'https://www.digithaigroup.com/wp-engine/wp-content/uploads/2015/09/products.png',\n",
      "            'https://www.digithaigroup.com/wp-engine/wp-content/uploads/2015/09/products.png',\n",
      "        ],\n",
      "        'pricing': {'price': 1000},\n",
      "        'productType': 'smartphone',\n",
      "        'quantity': 99,\n",
      "        'rating': 5,\n",
      "        'seller': {\n",
      "            'cpfCnpj': '12345678900',\n",
      "            'description': 'Melhor vendedor do Brasil',\n",
      "            'name': 'Vendedor 1',\n",
      "            'photo': 'https://image.flaticon.com/icons/svg/2039/2039075.svg',\n",
      "            'rating': 4,\n",
      "        },\n",
      "        'shippingDetails': {\n",
      "            'depth': 1,\n",
      "            'height': 10,\n",
      "            'weight': 350,\n",
      "            'width': 10,\n",
      "        },\n",
      "        'sku': 'SK001',\n",
      "        'status': 'Actived',\n",
      "        'title': 'Smartphone do Bom',\n",
      "        'updatedAt': datetime.datetime(2020, 9, 10, 8, 15, 39, 736000),\n",
      "    },\n",
      "    {\n",
      "        '_id': ObjectId('5f5addf9a8359483f6fd4e4c'),\n",
      "        'categories': ['Eletronicos'],\n",
      "        'createdAt': datetime.datetime(2020, 9, 10, 8, 15, 39, 736000),\n",
      "        'description': 'O melhor smartphone do mercado pelo melhor preço',\n",
      "        'manufactureDetails': {\n",
      "            'modelNumber': 'A123X',\n",
      "            'releaseDate': datetime.datetime(2020, 9, 1, 0, 0),\n",
      "        },\n",
      "        'photos': [\n",
      "            'https://www.digithaigroup.com/wp-engine/wp-content/uploads/2015/09/products.png',\n",
      "            'https://www.digithaigroup.com/wp-engine/wp-content/uploads/2015/09/products.png',\n",
      "            'https://www.digithaigroup.com/wp-engine/wp-content/uploads/2015/09/products.png',\n",
      "        ],\n",
      "        'pricing': {'price': 1000},\n",
      "        'productType': 'smartphone',\n",
      "        'quantity': 99,\n",
      "        'rating': 5,\n",
      "        'seller': {\n",
      "            'cpfCnpj': '12345678900',\n",
      "            'description': 'Melhor vendedor do Brasil',\n",
      "            'name': 'Vendedor 1',\n",
      "            'photo': 'https://image.flaticon.com/icons/svg/2039/2039075.svg',\n",
      "            'rating': 4,\n",
      "        },\n",
      "        'shippingDetails': {\n",
      "            'depth': 1,\n",
      "            'height': 10,\n",
      "            'weight': 350,\n",
      "            'width': 10,\n",
      "        },\n",
      "        'sku': 'SK002',\n",
      "        'status': 'Actived',\n",
      "        'title': 'Smartphone do Bom',\n",
      "        'updatedAt': datetime.datetime(2020, 9, 10, 8, 15, 39, 736000),\n",
      "    },\n",
      "    {\n",
      "        '_id': ObjectId('5f5aec82a8359483f6fd55eb'),\n",
      "        'categories': ['Eletronicos'],\n",
      "        'createdAt': datetime.datetime(2020, 9, 10, 8, 15, 39, 736000),\n",
      "        'description': 'O melhor smartphone do mercado pelo melhor preço',\n",
      "        'manufactureDetails': {\n",
      "            'modelNumber': 'A123X',\n",
      "            'releaseDate': datetime.datetime(2020, 9, 1, 0, 0),\n",
      "        },\n",
      "        'photos': [\n",
      "            'https://www.digithaigroup.com/wp-engine/wp-content/uploads/2015/09/products.png',\n",
      "            'https://www.digithaigroup.com/wp-engine/wp-content/uploads/2015/09/products.png',\n",
      "            'https://www.digithaigroup.com/wp-engine/wp-content/uploads/2015/09/products.png',\n",
      "        ],\n",
      "        'pricing': {'price': 1000},\n",
      "        'productType': 'smartphone',\n",
      "        'quantity': 99,\n",
      "        'rating': 5,\n",
      "        'seller': {\n",
      "            'cpfCnpj': '12345678901',\n",
      "            'description': 'Melhor vendedor do Brasil',\n",
      "            'name': 'Vendedor 1',\n",
      "            'photo': 'https://image.flaticon.com/icons/svg/2039/2039075.svg',\n",
      "            'rating': 4,\n",
      "        },\n",
      "        'shippingDetails': {\n",
      "            'depth': 1,\n",
      "            'height': 10,\n",
      "            'weight': 350,\n",
      "            'width': 10,\n",
      "        },\n",
      "        'sku': 'SK003',\n",
      "        'status': 'Actived',\n",
      "        'title': 'Smartphone do Bom',\n",
      "        'updatedAt': datetime.datetime(2020, 9, 10, 8, 15, 39, 736000),\n",
      "    },\n",
      "]\n"
     ]
    }
   ],
   "source": [
    "result = db.products.find().sort(\"seller.rating\", -1).sort(\"rating\", -1).limit(10)\n",
    "        \n",
    "pprint(list(result))"
   ]
  },
  {
   "cell_type": "markdown",
   "metadata": {},
   "source": [
    "### 5 categorias com mais produtos disponíveis"
   ]
  },
  {
   "cell_type": "code",
   "execution_count": 55,
   "metadata": {},
   "outputs": [
    {
     "name": "stdout",
     "output_type": "stream",
     "text": [
      "[{'_id': 'Eletronicos', 'totalItems': 3}]\n"
     ]
    }
   ],
   "source": [
    "result = db.products.aggregate(\n",
    "    [\n",
    "        {\n",
    "            \"$match\": {\n",
    "                \"status\": \"Actived\"\n",
    "            }\n",
    "        },\n",
    "        {\n",
    "            \"$unwind\": \"$categories\"\n",
    "        },\n",
    "        {\n",
    "            \"$group\": {\n",
    "                \"_id\": \"$categories\",\n",
    "                \"totalItems\": {\n",
    "                    \"$sum\": 1\n",
    "                }\n",
    "            }\n",
    "        },\n",
    "        {\n",
    "            \"$sort\": {\n",
    "                \"totalItems\": -1\n",
    "            }\n",
    "        },\n",
    "        {\n",
    "            \"$limit\": 5\n",
    "        }\n",
    "    ]\n",
    ")\n",
    "\n",
    "pprint(list(result))"
   ]
  }
 ],
 "metadata": {
  "kernelspec": {
   "display_name": "Python 3",
   "language": "python",
   "name": "python3"
  },
  "language_info": {
   "codemirror_mode": {
    "name": "ipython",
    "version": 3
   },
   "file_extension": ".py",
   "mimetype": "text/x-python",
   "name": "python",
   "nbconvert_exporter": "python",
   "pygments_lexer": "ipython3",
   "version": "3.8.5"
  }
 },
 "nbformat": 4,
 "nbformat_minor": 4
}
